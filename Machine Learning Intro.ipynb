{
 "cells": [
  {
   "cell_type": "markdown",
   "id": "a80ff95b-5d9a-4a04-bfdb-a6432066b1eb",
   "metadata": {},
   "source": [
    "## MACHINE LEARNING INTRO || ASSIGNMENT "
   ]
  },
  {
   "cell_type": "markdown",
   "id": "38565bcb-921a-4918-946d-97f91a5e8046",
   "metadata": {},
   "source": [
    "### Q1. Explain the differences between AI, ML, Deep Learning (DL), and Data Science (DS). "
   ]
  },
  {
   "cell_type": "markdown",
   "id": "5dfa74c4-d56a-4110-b18e-aa62fefca898",
   "metadata": {},
   "source": [
    "#### A1. AI is the broadest field, aiming to create systems that mimic human intelligence. It encompasses reasoning, learning, and self-correction to perform tasks like decision-making, problem-solving, and natural language understanding. AI can be rule-based or data-driven, with applications ranging from robotics to virtual assistants.\n",
    "\n",
    "#### ML is a subset of AI that focuses on enabling machines to learn from data without explicit programming. It uses algorithms to identify patterns and make predictions or decisions. ML is categorized into supervised, unsupervised, and reinforcement learning, with applications like recommendation systems, fraud detection, and predictive maintenance.\n",
    "\n",
    "#### DL is a specialized subset of ML that employs artificial neural networks with multiple layers to process vast amounts of data. It excels in tasks requiring hierarchical data representation, such as image recognition, natural language processing, and autonomous driving. DL models are computationally intensive and require large datasets for training.\n",
    "\n",
    "#### Data Science is the overarching discipline that combines statistical analysis, programming, and domain expertise to extract insights from data. It leverages AI, ML, and DL techniques to analyze structured and unstructured data, enabling predictive analytics, trend analysis, and decision-making. Data Science serves as the foundation for implementing AI and ML solutions."
   ]
  },
  {
   "cell_type": "markdown",
   "id": "db88f6a0-fe2d-415e-832d-7952ae3e916e",
   "metadata": {},
   "source": [
    "### Q2. What are the types of machine learning? Describe each with one real-world example. "
   ]
  },
  {
   "cell_type": "markdown",
   "id": "07044e5c-8611-484a-a5b9-464501ed4d90",
   "metadata": {},
   "source": [
    "#### A2. Machine Learning (ML) is a subset of Artificial Intelligence (AI) that enables systems to learn and improve from experience without being explicitly programmed. It uses algorithms to analyze data, identify patterns, and make predictions or decisions. ML is widely applied in areas like recommendation systems, fraud detection, autonomous vehicles, and medical diagnosis.\n",
    "#### Types of Machine Learning:\n",
    "#### 1. Supervised Learning: Supervised learning involves training a model on labeled data, where both input and output are known. The model learns to map inputs to the correct outputs and is commonly used for prediction and classification tasks.\n",
    "#### Examples: Predicting house prices (Regression).\n",
    "\n",
    "#### 2. Unsupervised Learning: Unsupervised learning works with unlabeled data, aiming to uncover hidden patterns or groupings. It is often used for clustering and dimensionality reduction.\n",
    "#### Examples: Grouping customers based on purchasing behavior (Clustering).\n",
    "\n",
    "#### 3. Reinforcement Learning: Reinforcement learning involves training an agent to make decisions by interacting with an environment. The agent learns through trial and error, receiving rewards or penalties based on its actions.\n",
    "#### Examples: Training AI to play chess or video games.\n",
    "\n",
    "#### 4. Semi-Supervised Learning: Semi-supervised learning combines labeled and unlabeled data. It is useful when labeled data is scarce or expensive to obtain.\n",
    "#### Examples: Language translation models using a mix of labeled and unlabeled sentence pairs."
   ]
  },
  {
   "cell_type": "markdown",
   "id": "9644b05c-9774-4b9c-bd4f-5b00ef673543",
   "metadata": {},
   "source": [
    "### Q3. Define overfitting, underfitting, and the bias-variance tradeoff in machine learning."
   ]
  },
  {
   "cell_type": "markdown",
   "id": "d9ea1fe9-0fec-4453-bdfe-c1df7caa7a9c",
   "metadata": {},
   "source": [
    "#### A3. Overfitting in Machine Learning : Overfitting happens when a model learns too much from the training data, including details that don’t matter (like noise or outliers).\n",
    "#### For example, imagine fitting a very complicated curve to a set of points. The curve will go through every point, but it won’t represent the actual pattern. As a result, the model works great on training data but fails when tested on new data.\n",
    "#### Overfitting models are like students who memorize answers instead of understanding the topic. They do well in practice tests (training) but struggle in real exams (testing).\n",
    "\n",
    "#### 2. Underfitting in Machine Learning: Underfitting is the opposite of overfitting. It happens when a model is too simple to capture what’s going on in the data.\n",
    "#### For example, imagine drawing a straight line to fit points that actually follow a curve. The line misses most of the pattern. In this case, the model doesn’t work well on either the training or testing data.\n",
    "\n",
    "#### 3. Bias and Variance in Machine Learning\n",
    "#### Bias and variance are two key sources of error in machine learning models that directly impact their performance and generalization ability.\n",
    "#### Bias: is the error that happens when a machine learning model is too simple and doesn't learn enough details from the data. It's like assuming all birds can only be small and fly, so the model fails to recognize big birds like ostriches or penguins that can't fly and get biased with predictions.\n",
    "#### These assumptions make the model easier to train but may prevent it from capturing the underlying complexities of the data. High bias typically leads to underfitting, where the model performs poorly on both training and testing data because it fails to learn enough from the data.\n",
    "#### Example: A linear regression model applied to a dataset with a non-linear relationship.\n",
    "\n",
    "#### Variance: Error that happens when a machine learning model learns too much from the data, including random noise.A high-variance model learns not only the patterns but also the noise in the training data, which leads to poor generalization on unseen data. High variance typically leads to overfitting, where the model performs well on training data but poorly on testing data."
   ]
  },
  {
   "cell_type": "markdown",
   "id": "2cfc68b7-df98-4520-a78b-ad437e3ecbe9",
   "metadata": {},
   "source": [
    "### Q4.  What are outliers in a dataset, and list three common techniques for handling them. "
   ]
  },
  {
   "cell_type": "markdown",
   "id": "ddb21ea8-b2c2-443b-ab6d-ca80b6cab054",
   "metadata": {},
   "source": [
    "#### A4. Outliers are data points that deviate significantly from the majority of observations in a dataset. They can arise due to errors in data collection, natural variability, or rare events. While outliers can skew statistical analyses and affect machine learning models, they may also provide valuable insights, such as identifying anomalies or rare occurrences.\n",
    "\n",
    "#### Common Techniques for Handling Outliers\n",
    "#### 1. Z-Score Method: The Z-score measures how many standard deviations a data point is from the mean. Data points with Z-scores greater than a threshold (commonly ±3) are considered outliers. This method is effective for normally distributed data but may not work well with skewed distributions.\n",
    "\n",
    "#### 2. Interquartile Range (IQR) Method : The IQR method identifies outliers as points outside the range [Q1 - 1.5*IQR, Q3 + 1.5*IQR], where Q1 and Q3 are the first and third quartiles. This method is robust to skewed data and non-normal distributions.\n",
    "\n",
    "#### 3. Isolation Forest : Isolation Forest is a machine learning algorithm that isolates outliers by recursively partitioning the dataset. It is particularly effective for high-dimensional data and large datasets."
   ]
  },
  {
   "cell_type": "markdown",
   "id": "1a97a22a-c1d3-403d-921d-b5797958df16",
   "metadata": {},
   "source": [
    "### Q5. Explain the process of handling missing values and mention one imputation technique for numerical and one for categorical data. "
   ]
  },
  {
   "cell_type": "markdown",
   "id": "f16e45c1-7c88-4d3b-961b-211753afe1d9",
   "metadata": {},
   "source": [
    "#### A5. Missing values are a common challenge in machine learning and data analysis. They occur when certain data points are missing for specific variables in a dataset. These gaps in information can take the form of blank cells, null values or special symbols like \"NA\", \"NaN\" or \"unknown.\" If not addressed properly, missing values can harm the accuracy and reliability of our models. They can reduce the sample size, introduce bias and make it difficult to apply certain analysis techniques that require complete data. Efficiently handling missing values is important to ensure our machine learning models produce accurate and unbiased results.\n",
    "\n",
    "#### Removing rows with missing values : It is a simple and straightforward method to handle missing data, used when we want to keep our analysis clean and minimize complexity.\n",
    "#### Advantages:\n",
    "#### 1. Simple and efficient: It’s easy to implement and quickly removes data points with missing values.\n",
    "#### 2. Cleans data: It removes potentially problematic data points, ensuring that only complete rows remain in the dataset.\n",
    "\n",
    "#### Disadvantages:\n",
    "#### 1. Reduces sample size: When rows are removed, the overall dataset shrinks which can affect the power and accuracy of our analysis.\n",
    "#### 2. Potential bias: If missing data is not random (e.g if certain groups are more likely to have missing values) removing rows could introduce bias."
   ]
  },
  {
   "cell_type": "markdown",
   "id": "e4891346-c86f-4eec-a250-f9dbdc2708ad",
   "metadata": {},
   "source": [
    "### Q6.  Write a Python program that: Creates a synthetic imbalanced dataset with make_classification() from sklearn.datasets. Prints the class distribution. (Include your Python code and output in the code box below.) "
   ]
  },
  {
   "cell_type": "code",
   "execution_count": 1,
   "id": "b03a895b-bd86-46ce-ba7c-b07de2abea77",
   "metadata": {},
   "outputs": [
    {
     "name": "stdout",
     "output_type": "stream",
     "text": [
      "Class Distribution: Counter({np.int64(0): 900, np.int64(1): 100})\n"
     ]
    }
   ],
   "source": [
    "# A6. \n",
    "from sklearn.datasets import make_classification\n",
    "from collections import Counter\n",
    "\n",
    "# Create a synthetic imbalanced dataset\n",
    "X, y = make_classification(\n",
    "    n_samples=1000,  # Total number of samples\n",
    "    n_features=20,   # Number of features\n",
    "    n_informative=2, # Number of informative features\n",
    "    n_redundant=10,  # Number of redundant features\n",
    "    n_clusters_per_class=1,\n",
    "    weights=[0.9, 0.1],  # Imbalance ratio (90% majority, 10% minority)\n",
    "    flip_y=0,            # No label noise\n",
    "    random_state=42      # For reproducibility\n",
    ")\n",
    "\n",
    "# Print the class distribution\n",
    "class_distribution = Counter(y)\n",
    "print(\"Class Distribution:\", class_distribution)\n"
   ]
  },
  {
   "cell_type": "markdown",
   "id": "24cdf9de-82ed-40a8-a551-eb80e717e1ed",
   "metadata": {},
   "source": [
    "#### OUTPUT: \n",
    "#### This program generates a dataset with 1,000 samples, where 90% belong to the majority class (0) and 10% to the minority class (1). The Counter function is used to count and display the class distribution."
   ]
  },
  {
   "cell_type": "markdown",
   "id": "dd275b20-ab6d-4609-80f3-b01efd32d59f",
   "metadata": {},
   "source": [
    "### Q7.  Implement one-hot encoding using pandas for the following list of colors: ['Red', 'Green', 'Blue', 'Green', 'Red']. Print the resulting dataframe. (Include your Python code and output in the code box below.)"
   ]
  },
  {
   "cell_type": "code",
   "execution_count": 3,
   "id": "09fda366-c4a0-4590-ba88-dd2c730db012",
   "metadata": {},
   "outputs": [
    {
     "name": "stdout",
     "output_type": "stream",
     "text": [
      "    Blue  Green    Red\n",
      "0  False  False   True\n",
      "1  False   True  False\n",
      "2   True  False  False\n",
      "3  False   True  False\n",
      "4  False  False   True\n"
     ]
    }
   ],
   "source": [
    "# A7.\n",
    "import pandas as pd\n",
    "\n",
    "# List of colors\n",
    "colors = ['Red', 'Green', 'Blue', 'Green', 'Red']\n",
    "\n",
    "# Create a DataFrame\n",
    "df = pd.DataFrame({'Color': colors})\n",
    "\n",
    "# Perform one-hot encoding\n",
    "one_hot_encoded = pd.get_dummies(df['Color'])\n",
    "\n",
    "# Print the resulting DataFrame\n",
    "print(one_hot_encoded)\n"
   ]
  },
  {
   "cell_type": "markdown",
   "id": "bfa4b183-4986-46e5-ae7b-33aea50a816a",
   "metadata": {},
   "source": [
    "#### OUTPUT: This code creates a one-hot encoded DataFrame where each unique color is represented as a separate column, and the presence of a color in a row is indicated by 1, while its absence is indicated by 0."
   ]
  },
  {
   "cell_type": "markdown",
   "id": "72c20905-686c-4141-afd4-579ee0cf0821",
   "metadata": {},
   "source": [
    "### Q8. Write a Python script to:  Generate 1000 samples from a normal distribution. Introduce 50 random missing values. Fill missing values with the column mean. Plot a histogram before and after imputation. (Include your Python code and output in the code box below.) "
   ]
  },
  {
   "cell_type": "code",
   "execution_count": 4,
   "id": "acde8015-dc12-429d-bb33-924fc5ad7640",
   "metadata": {},
   "outputs": [
    {
     "data": {
      "image/png": "[encoded data removed]",
      "text/plain": [
       "<Figure size 1200x600 with 2 Axes>"
      ]
     },
     "metadata": {},
     "output_type": "display_data"
    }
   ],
   "source": [
    "# A8. \n",
    "import numpy as np\n",
    "import matplotlib.pyplot as plt\n",
    "\n",
    "# Step 1: Generate 1000 samples from a normal distribution\n",
    "mean = 50  # Mean of the distribution\n",
    "std_dev = 10  # Standard deviation of the distribution\n",
    "samples = np.random.normal(mean, std_dev, 1000)\n",
    "\n",
    "# Step 2: Introduce 50 random missing values\n",
    "np.random.seed(42)  # For reproducibility\n",
    "missing_indices = np.random.choice(len(samples), 50, replace=False)\n",
    "samples_with_missing = samples.copy()\n",
    "samples_with_missing[missing_indices] = np.nan\n",
    "\n",
    "# Step 3: Fill missing values with the column mean\n",
    "mean_value = np.nanmean(samples_with_missing)  # Calculate mean ignoring NaNs\n",
    "samples_imputed = np.where(np.isnan(samples_with_missing), mean_value, samples_with_missing)\n",
    "\n",
    "# Step 4: Plot histograms before and after imputation\n",
    "plt.figure(figsize=(12, 6))\n",
    "\n",
    "# Histogram before imputation\n",
    "plt.subplot(1, 2, 1)\n",
    "plt.hist(samples_with_missing[~np.isnan(samples_with_missing)], bins=30, color='blue', alpha=0.7, label='Before Imputation')\n",
    "plt.title('Histogram Before Imputation')\n",
    "plt.xlabel('Value')\n",
    "plt.ylabel('Frequency')\n",
    "plt.legend()\n",
    "\n",
    "# Histogram after imputation\n",
    "plt.subplot(1, 2, 2)\n",
    "plt.hist(samples_imputed, bins=30, color='green', alpha=0.7, label='After Imputation')\n",
    "plt.title('Histogram After Imputation')\n",
    "plt.xlabel('Value')\n",
    "plt.ylabel('Frequency')\n",
    "plt.legend()\n",
    "\n",
    "plt.tight_layout()\n",
    "plt.show()\n"
   ]
  },
  {
   "cell_type": "markdown",
   "id": "e7b2f782-eb54-4679-8424-454b6bf9c6f4",
   "metadata": {},
   "source": [
    "### Q9. Implement Min-Max scaling on the following list of numbers [2, 5, 10, 15, 20] using sklearn.preprocessing.MinMaxScaler. Print the scaled array. (Include your Python code and output in the code box below.)"
   ]
  },
  {
   "cell_type": "code",
   "execution_count": 5,
   "id": "bd6af2bc-cfae-489a-9886-e7726e66d102",
   "metadata": {},
   "outputs": [
    {
     "name": "stdout",
     "output_type": "stream",
     "text": [
      "Scaled Data:\n",
      "[[0.        ]\n",
      " [0.16666667]\n",
      " [0.44444444]\n",
      " [0.72222222]\n",
      " [1.        ]]\n"
     ]
    }
   ],
   "source": [
    "#A9. \n",
    "from sklearn.preprocessing import MinMaxScaler\n",
    "import numpy as np\n",
    "\n",
    "# Original data\n",
    "data = np.array([2, 5, 10, 15, 20]).reshape(-1, 1)\n",
    "\n",
    "# Initialize MinMaxScaler\n",
    "scaler = MinMaxScaler()\n",
    "\n",
    "# Fit and transform the data\n",
    "scaled_data = scaler.fit_transform(data)\n",
    "\n",
    "# Print the scaled array\n",
    "print(\"Scaled Data:\")\n",
    "print(scaled_data)\n"
   ]
  },
  {
   "cell_type": "markdown",
   "id": "a05188a4-a8c5-4a2e-9ab6-f8f6e8314ae1",
   "metadata": {},
   "source": [
    "### Q10.  You are working as a data scientist for a retail company. You receive a customer transaction dataset that contains: Missing ages,  Outliers in transaction amount, A highly imbalanced target (fraud vs. non-fraud), Categorical variables like payment method. Explain the step-by-step data preparation plan you’d follow before training a machine learning model. Include how you’d address missing data, outliers, imbalance, and encoding. (Include your Python code and output in the code box below.) "
   ]
  },
  {
   "cell_type": "code",
   "execution_count": 9,
   "id": "4db434d6-6067-42fe-938b-0a7a1ee8e2ca",
   "metadata": {},
   "outputs": [
    {
     "name": "stdout",
     "output_type": "stream",
     "text": [
      "Final Dataset After Preprocessing:\n"
     ]
    },
    {
     "data": {
      "text/html": [
       "<div>\n",
       "<style scoped>\n",
       "    .dataframe tbody tr th:only-of-type {\n",
       "        vertical-align: middle;\n",
       "    }\n",
       "\n",
       "    .dataframe tbody tr th {\n",
       "        vertical-align: top;\n",
       "    }\n",
       "\n",
       "    .dataframe thead th {\n",
       "        text-align: right;\n",
       "    }\n",
       "</style>\n",
       "<table border=\"1\" class=\"dataframe\">\n",
       "  <thead>\n",
       "    <tr style=\"text-align: right;\">\n",
       "      <th></th>\n",
       "      <th>Age</th>\n",
       "      <th>TransactionAmount</th>\n",
       "      <th>PaymentMethod_Card</th>\n",
       "      <th>PaymentMethod_Cash</th>\n",
       "      <th>PaymentMethod_Online</th>\n",
       "      <th>Fraud</th>\n",
       "    </tr>\n",
       "  </thead>\n",
       "  <tbody>\n",
       "    <tr>\n",
       "      <th>0</th>\n",
       "      <td>25.000</td>\n",
       "      <td>100.0</td>\n",
       "      <td>True</td>\n",
       "      <td>False</td>\n",
       "      <td>False</td>\n",
       "      <td>0</td>\n",
       "    </tr>\n",
       "    <tr>\n",
       "      <th>1</th>\n",
       "      <td>36.625</td>\n",
       "      <td>200.0</td>\n",
       "      <td>False</td>\n",
       "      <td>True</td>\n",
       "      <td>False</td>\n",
       "      <td>0</td>\n",
       "    </tr>\n",
       "    <tr>\n",
       "      <th>2</th>\n",
       "      <td>40.000</td>\n",
       "      <td>1600.0</td>\n",
       "      <td>True</td>\n",
       "      <td>False</td>\n",
       "      <td>False</td>\n",
       "      <td>1</td>\n",
       "    </tr>\n",
       "    <tr>\n",
       "      <th>3</th>\n",
       "      <td>35.000</td>\n",
       "      <td>300.0</td>\n",
       "      <td>False</td>\n",
       "      <td>False</td>\n",
       "      <td>True</td>\n",
       "      <td>0</td>\n",
       "    </tr>\n",
       "    <tr>\n",
       "      <th>4</th>\n",
       "      <td>28.000</td>\n",
       "      <td>400.0</td>\n",
       "      <td>False</td>\n",
       "      <td>True</td>\n",
       "      <td>False</td>\n",
       "      <td>0</td>\n",
       "    </tr>\n",
       "  </tbody>\n",
       "</table>\n",
       "</div>"
      ],
      "text/plain": [
       "      Age  TransactionAmount  PaymentMethod_Card  PaymentMethod_Cash  \\\n",
       "0  25.000              100.0                True               False   \n",
       "1  36.625              200.0               False                True   \n",
       "2  40.000             1600.0                True               False   \n",
       "3  35.000              300.0               False               False   \n",
       "4  28.000              400.0               False                True   \n",
       "\n",
       "   PaymentMethod_Online  Fraud  \n",
       "0                 False      0  \n",
       "1                 False      0  \n",
       "2                 False      1  \n",
       "3                  True      0  \n",
       "4                 False      0  "
      ]
     },
     "metadata": {},
     "output_type": "display_data"
    },
    {
     "name": "stdout",
     "output_type": "stream",
     "text": [
      "Class Distribution After SMOTE:\n"
     ]
    },
    {
     "data": {
      "text/plain": [
       "Fraud\n",
       "0    8\n",
       "1    8\n",
       "Name: count, dtype: int64"
      ]
     },
     "metadata": {},
     "output_type": "display_data"
    }
   ],
   "source": [
    "# A10.\n",
    "import pandas as pd\n",
    "import numpy as np\n",
    "from sklearn.impute import SimpleImputer\n",
    "from sklearn.preprocessing import OneHotEncoder, StandardScaler\n",
    "from sklearn.compose import ColumnTransformer\n",
    "from sklearn.pipeline import Pipeline\n",
    "from sklearn.model_selection import train_test_split\n",
    "from imblearn.over_sampling import SMOTE\n",
    "\n",
    "# Sample synthetic dataset (simulated for this example)\n",
    "data = {\n",
    "    'Age': [25, np.nan, 40, 35, 28, np.nan, 45, 60, 29, 31],\n",
    "    'TransactionAmount': [100, 200, 15000, 300, 400, 500, 100000, 700, 800, 150],\n",
    "    'PaymentMethod': ['Card', 'Cash', 'Card', 'Online', 'Cash', 'Card', 'Card', 'Online', 'Online', 'Cash'],\n",
    "    'Fraud': [0, 0, 1, 0, 0, 0, 1, 0, 0, 0]\n",
    "}\n",
    "\n",
    "df = pd.DataFrame(data)\n",
    "\n",
    "### 1. Handle Missing Values (Age) ###\n",
    "# Impute missing Age values with the mean\n",
    "imputer = SimpleImputer(strategy='mean')\n",
    "df['Age'] = imputer.fit_transform(df[['Age']])\n",
    "\n",
    "### 2. Handle Outliers (Transaction Amount) ###\n",
    "# Use IQR method to cap outliers\n",
    "Q1 = df['TransactionAmount'].quantile(0.25)\n",
    "Q3 = df['TransactionAmount'].quantile(0.75)\n",
    "IQR = Q3 - Q1\n",
    "lower_bound = Q1 - 1.5 * IQR\n",
    "upper_bound = Q3 + 1.5 * IQR\n",
    "\n",
    "# Cap the outliers to upper/lower bounds\n",
    "df['TransactionAmount'] = np.where(\n",
    "    df['TransactionAmount'] > upper_bound,\n",
    "    upper_bound,\n",
    "    np.where(df['TransactionAmount'] < lower_bound, lower_bound, df['TransactionAmount'])\n",
    ")\n",
    "\n",
    "### 3. Encode Categorical Variables (Payment Method) ###\n",
    "# One-hot encoding using pandas\n",
    "df_encoded = pd.get_dummies(df, columns=['PaymentMethod'])\n",
    "\n",
    "### 4. Handle Class Imbalance (Fraud vs. Non-Fraud) ###\n",
    "# Separate features and target\n",
    "X = df_encoded.drop('Fraud', axis=1)\n",
    "y = df_encoded['Fraud']\n",
    "\n",
    "# Apply SMOTE for oversampling minority class\n",
    "smote = SMOTE(random_state=42, k_neighbors=1) # Set k_neighbors to 1\n",
    "X_resampled, y_resampled = smote.fit_resample(X, y)\n",
    "\n",
    "# Combine into a new DataFrame for clarity\n",
    "df_final = pd.DataFrame(X_resampled, columns=X.columns)\n",
    "df_final['Fraud'] = y_resampled\n",
    "\n",
    "# Print final dataset summary\n",
    "print(\"Final Dataset After Preprocessing:\")\n",
    "display(df_final.head())\n",
    "print(\"Class Distribution After SMOTE:\")\n",
    "display(df_final['Fraud'].value_counts())"
   ]
  }
 ],
 "metadata": {
  "kernelspec": {
   "display_name": "Python [conda env:base] *",
   "language": "python",
   "name": "conda-base-py"
  },
  "language_info": {
   "codemirror_mode": {
    "name": "ipython",
    "version": 3
   },
   "file_extension": ".py",
   "mimetype": "text/x-python",
   "name": "python",
   "nbconvert_exporter": "python",
   "pygments_lexer": "ipython3",
   "version": "3.13.5"
  }
 },
 "nbformat": 4,
 "nbformat_minor": 5
}
